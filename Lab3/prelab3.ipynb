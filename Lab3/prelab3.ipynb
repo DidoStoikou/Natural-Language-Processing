{
  "nbformat": 4,
  "nbformat_minor": 0,
  "metadata": {
    "colab": {
      "name": "prelab3.ipynb",
      "provenance": [],
      "collapsed_sections": [
        "cx4LLkhQfirl"
      ]
    },
    "kernelspec": {
      "name": "python3",
      "display_name": "Python 3"
    },
    "accelerator": "GPU"
  },
  "cells": [
    {
      "cell_type": "markdown",
      "metadata": {
        "id": "UNmtUcij3AXF"
      },
      "source": [
        "\n",
        "# Προπαρασκευή 3ου Εργαστηρίου\n",
        "*   Αχλάτης Στέφανος-Σταμάτης (03116149)\n",
        "*   Στόικου Θεοδότη (03117085)\n",
        "\n"
      ]
    },
    {
      "cell_type": "markdown",
      "metadata": {
        "id": "nOHoisFhfhnI"
      },
      "source": [
        "#Mount Drive"
      ]
    },
    {
      "cell_type": "code",
      "metadata": {
        "id": "NEnXnzeofRPV",
        "colab": {
          "base_uri": "https://localhost:8080/"
        },
        "outputId": "f356cf3c-0e4d-452c-a1ac-dd7b799f38ac"
      },
      "source": [
        "from google.colab import drive\n",
        "drive.mount('/content/drive')"
      ],
      "execution_count": null,
      "outputs": [
        {
          "output_type": "stream",
          "text": [
            "Mounted at /content/drive\n"
          ],
          "name": "stdout"
        }
      ]
    },
    {
      "cell_type": "code",
      "metadata": {
        "colab": {
          "base_uri": "https://localhost:8080/",
          "height": 999
        },
        "id": "z3UwuUdjAD6P",
        "outputId": "ef395528-533c-42a2-f98c-b8d927245075"
      },
      "source": [
        "!pip install -r /content/drive/MyDrive/lab3/requirements.txt"
      ],
      "execution_count": null,
      "outputs": [
        {
          "output_type": "stream",
          "text": [
            "Collecting numpy==1.19.4\n",
            "\u001b[?25l  Downloading https://files.pythonhosted.org/packages/87/86/753182c9085ba4936c0076269a571613387cdb77ae2bf537448bfd63472c/numpy-1.19.4-cp36-cp36m-manylinux2010_x86_64.whl (14.5MB)\n",
            "\u001b[K     |████████████████████████████████| 14.5MB 242kB/s \n",
            "\u001b[?25hCollecting tqdm==4.55.0\n",
            "\u001b[?25l  Downloading https://files.pythonhosted.org/packages/05/bb/9403e1f30ed060e16835c9b275620ca89191a41ccc2b995b88efbc32dfd9/tqdm-4.55.0-py2.py3-none-any.whl (68kB)\n",
            "\u001b[K     |████████████████████████████████| 71kB 8.8MB/s \n",
            "\u001b[?25hCollecting torch==1.7.1\n",
            "\u001b[?25l  Downloading https://files.pythonhosted.org/packages/90/4f/acf48b3a18a8f9223c6616647f0a011a5713a985336088d7c76f3a211374/torch-1.7.1-cp36-cp36m-manylinux1_x86_64.whl (776.8MB)\n",
            "\u001b[K     |████████████████████████████████| 776.8MB 23kB/s \n",
            "\u001b[?25hCollecting scikit_learn==0.24.0\n",
            "\u001b[?25l  Downloading https://files.pythonhosted.org/packages/30/aa/db462d385c56905b731403885454188683f63c86ea68900f6f7e7558b5fa/scikit_learn-0.24.0-cp36-cp36m-manylinux2010_x86_64.whl (22.2MB)\n",
            "\u001b[K     |████████████████████████████████| 22.2MB 1.3MB/s \n",
            "\u001b[?25hCollecting nltk==3.5\n",
            "\u001b[?25l  Downloading https://files.pythonhosted.org/packages/92/75/ce35194d8e3022203cca0d2f896dbb88689f9b3fce8e9f9cff942913519d/nltk-3.5.zip (1.4MB)\n",
            "\u001b[K     |████████████████████████████████| 1.4MB 46.7MB/s \n",
            "\u001b[?25hRequirement already satisfied: dataclasses; python_version < \"3.7\" in /usr/local/lib/python3.6/dist-packages (from torch==1.7.1->-r /content/drive/MyDrive/lab3/requirements.txt (line 3)) (0.8)\n",
            "Requirement already satisfied: typing-extensions in /usr/local/lib/python3.6/dist-packages (from torch==1.7.1->-r /content/drive/MyDrive/lab3/requirements.txt (line 3)) (3.7.4.3)\n",
            "Collecting threadpoolctl>=2.0.0\n",
            "  Downloading https://files.pythonhosted.org/packages/f7/12/ec3f2e203afa394a149911729357aa48affc59c20e2c1c8297a60f33f133/threadpoolctl-2.1.0-py3-none-any.whl\n",
            "Requirement already satisfied: joblib>=0.11 in /usr/local/lib/python3.6/dist-packages (from scikit_learn==0.24.0->-r /content/drive/MyDrive/lab3/requirements.txt (line 4)) (1.0.0)\n",
            "Requirement already satisfied: scipy>=0.19.1 in /usr/local/lib/python3.6/dist-packages (from scikit_learn==0.24.0->-r /content/drive/MyDrive/lab3/requirements.txt (line 4)) (1.4.1)\n",
            "Requirement already satisfied: click in /usr/local/lib/python3.6/dist-packages (from nltk==3.5->-r /content/drive/MyDrive/lab3/requirements.txt (line 5)) (7.1.2)\n",
            "Requirement already satisfied: regex in /usr/local/lib/python3.6/dist-packages (from nltk==3.5->-r /content/drive/MyDrive/lab3/requirements.txt (line 5)) (2019.12.20)\n",
            "Building wheels for collected packages: nltk\n",
            "  Building wheel for nltk (setup.py) ... \u001b[?25l\u001b[?25hdone\n",
            "  Created wheel for nltk: filename=nltk-3.5-cp36-none-any.whl size=1434675 sha256=eac881e974371db18ada2c6d9f0ca9d84ed0ffbcf5ba97b0d0dc25c0eab25df6\n",
            "  Stored in directory: /root/.cache/pip/wheels/ae/8c/3f/b1fe0ba04555b08b57ab52ab7f86023639a526d8bc8d384306\n",
            "Successfully built nltk\n",
            "\u001b[31mERROR: torchvision 0.8.1+cu101 has requirement torch==1.7.0, but you'll have torch 1.7.1 which is incompatible.\u001b[0m\n",
            "\u001b[31mERROR: datascience 0.10.6 has requirement folium==0.2.1, but you'll have folium 0.8.3 which is incompatible.\u001b[0m\n",
            "\u001b[31mERROR: albumentations 0.1.12 has requirement imgaug<0.2.7,>=0.2.5, but you'll have imgaug 0.2.9 which is incompatible.\u001b[0m\n",
            "Installing collected packages: numpy, tqdm, torch, threadpoolctl, scikit-learn, nltk\n",
            "  Found existing installation: numpy 1.19.5\n",
            "    Uninstalling numpy-1.19.5:\n",
            "      Successfully uninstalled numpy-1.19.5\n",
            "  Found existing installation: tqdm 4.41.1\n",
            "    Uninstalling tqdm-4.41.1:\n",
            "      Successfully uninstalled tqdm-4.41.1\n",
            "  Found existing installation: torch 1.7.0+cu101\n",
            "    Uninstalling torch-1.7.0+cu101:\n",
            "      Successfully uninstalled torch-1.7.0+cu101\n",
            "  Found existing installation: scikit-learn 0.22.2.post1\n",
            "    Uninstalling scikit-learn-0.22.2.post1:\n",
            "      Successfully uninstalled scikit-learn-0.22.2.post1\n",
            "  Found existing installation: nltk 3.2.5\n",
            "    Uninstalling nltk-3.2.5:\n",
            "      Successfully uninstalled nltk-3.2.5\n",
            "Successfully installed nltk-3.5 numpy-1.19.4 scikit-learn-0.24.0 threadpoolctl-2.1.0 torch-1.7.1 tqdm-4.55.0\n"
          ],
          "name": "stdout"
        },
        {
          "output_type": "display_data",
          "data": {
            "application/vnd.colab-display-data+json": {
              "pip_warning": {
                "packages": [
                  "numpy"
                ]
              }
            }
          },
          "metadata": {
            "tags": []
          }
        }
      ]
    },
    {
      "cell_type": "code",
      "metadata": {
        "id": "UWvvulTuBCcZ"
      },
      "source": [
        "# !unzip /content/drive/MyDrive/lab3/embeddings/glove.6B.zip\r\n",
        "\r\n",
        "# !mv glove.* /content/drive/MyDrive/lab3/embeddings -f"
      ],
      "execution_count": null,
      "outputs": []
    },
    {
      "cell_type": "markdown",
      "metadata": {
        "id": "cx4LLkhQfirl"
      },
      "source": [
        "#Imports"
      ]
    },
    {
      "cell_type": "code",
      "metadata": {
        "id": "A_CCZl0mfkNb"
      },
      "source": [
        "import pandas as pd\n",
        "import numpy as np\n",
        "import matplotlib.pyplot as plt \n",
        "import random\n",
        "from sklearn.base import BaseEstimator, ClassifierMixin\n",
        "from sklearn.decomposition import PCA\n",
        "from google.colab import files\n",
        "from sklearn.model_selection import learning_curve\n",
        "from sklearn.svm import SVC\n",
        "from sklearn.neighbors import KNeighborsClassifier\n",
        "from sklearn.model_selection import validation_curve\n",
        "from sklearn.model_selection import KFold\n",
        "from sklearn.model_selection import cross_val_score\n",
        "from sklearn.naive_bayes import GaussianNB\n",
        "import sklearn.model_selection\n",
        "from sklearn.ensemble import VotingClassifier,BaggingClassifier\n",
        "from sklearn.base import BaseEstimator, ClassifierMixin\n",
        "from scipy.stats import multivariate_normal\n",
        "from sklearn import preprocessing\n",
        "import warnings\n",
        "from sklearn.exceptions import UndefinedMetricWarning\n",
        "from sklearn.preprocessing import LabelEncoder\n",
        "import torch\n",
        "from torch.utils.data import DataLoader\n",
        "from config import EMB_PATH\n",
        "from dataloading import SentenceDataset\n",
        "from models import BaselineDNN\n",
        "from training import train_dataset, eval_dataset\n",
        "from utils.load_datasets import load_MR, load_Semeval2017A\n",
        "from utils.load_embeddings import load_word_vectors\n",
        "from sklearn.metrics import f1_score, accuracy_score, recall_score\n",
        "import seaborn as sns\n",
        "warnings.filterwarnings(\"ignore\", category=UndefinedMetricWarning)"
      ],
      "execution_count": null,
      "outputs": []
    },
    {
      "cell_type": "markdown",
      "metadata": {
        "id": "xKx-AZ9cYa8K"
      },
      "source": [
        "# 1. Προεπεξεργασία Δεδομένων\r\n"
      ]
    },
    {
      "cell_type": "code",
      "metadata": {
        "id": "W-WjKBqNZsZm"
      },
      "source": [
        "import os\r\n",
        "os.chdir(\"/content/drive/MyDrive/lab3/\")"
      ],
      "execution_count": null,
      "outputs": []
    },
    {
      "cell_type": "markdown",
      "metadata": {
        "id": "xh3jDqLuE145"
      },
      "source": [
        "Θα χρησιμοποιήσουμε τα εργαλεία που παρέχει το PyTorch (κλάσεις Dataset και Dataloader κλπ.). Η κλάση torch.utils.data.Dataset μετατρέπει κάθε παράδειγμα στην μορφή που\r\n",
        "απαιτείται για την εκπαίδευση του νευρωνικού δικτύου και η κλάση torch.utils.data.Dataloader\r\n",
        "χρησιμοποιεί ένα αντικείμενο της κλάσης Dataset για να μετατρέψει τα παραδείγματα του σε torch\r\n",
        "Tensors και να τα οργανώσει σε mini-batces."
      ]
    },
    {
      "cell_type": "code",
      "metadata": {
        "colab": {
          "base_uri": "https://localhost:8080/"
        },
        "id": "ydUAGlxwXGWY",
        "outputId": "ae7d3ba7-a68a-4feb-94fd-13e1684f26c6"
      },
      "source": [
        "########################################################\r\n",
        "# Configuration\r\n",
        "########################################################\r\n",
        "\r\n",
        "\r\n",
        "# Download the embeddings of your choice\r\n",
        "# for example http://nlp.stanford.edu/data/glove.6B.zip\r\n",
        "\r\n",
        "# 1 - point to the pretrained embeddings file (must be in /embeddings folder)\r\n",
        "EMBEDDINGS = os.path.join(EMB_PATH, \"glove.6B.50d.txt\")\r\n",
        "\r\n",
        "# 2 - set the correct dimensionality of the embeddings\r\n",
        "EMB_DIM = 50\r\n",
        "\r\n",
        "EMB_TRAINABLE = False\r\n",
        "BATCH_SIZE = 128\r\n",
        "EPOCHS = 50\r\n",
        "DATASET = \"MR\"  # options: \"MR\", \"Semeval2017A\"\r\n",
        "\r\n",
        "# if your computer has a CUDA compatible gpu use it, otherwise use the cpu\r\n",
        "DEVICE = torch.device(\"cuda\" if torch.cuda.is_available() else \"cpu\")"
      ],
      "execution_count": null,
      "outputs": [
        {
          "output_type": "stream",
          "text": [
            "/usr/local/lib/python3.6/dist-packages/torch/cuda/__init__.py:52: UserWarning: CUDA initialization: The NVIDIA driver on your system is too old (found version 10010). Please update your GPU driver by downloading and installing a new version from the URL: http://www.nvidia.com/Download/index.aspx Alternatively, go to: https://pytorch.org to install a PyTorch version that has been compiled with your version of the CUDA driver. (Triggered internally at  /pytorch/c10/cuda/CUDAFunctions.cpp:100.)\n",
            "  return torch._C._cuda_getDeviceCount() > 0\n"
          ],
          "name": "stderr"
        }
      ]
    },
    {
      "cell_type": "code",
      "metadata": {
        "colab": {
          "base_uri": "https://localhost:8080/"
        },
        "id": "D0gbo_d6YdHT",
        "outputId": "e2522e29-5191-442e-9275-1b3f56c6efea"
      },
      "source": [
        "########################################################\r\n",
        "# Define PyTorch datasets and dataloaders\r\n",
        "########################################################\r\n",
        "\r\n",
        "# load word embeddings\r\n",
        "print(\"loading word embeddings...\")\r\n",
        "word2idx, idx2word, embeddings = load_word_vectors(EMBEDDINGS, EMB_DIM)\r\n",
        "\r\n",
        "# load the raw data\r\n",
        "X_train1, y_train1, X_test1, y_test1 = load_Semeval2017A()\r\n",
        "X_train2, y_train2, X_test2, y_test2 = load_MR()\r\n"
      ],
      "execution_count": null,
      "outputs": [
        {
          "output_type": "stream",
          "text": [
            "loading word embeddings...\n",
            "Loaded word embeddings from cache.\n"
          ],
          "name": "stdout"
        }
      ]
    },
    {
      "cell_type": "markdown",
      "metadata": {
        "id": "bm0BkZiLJyKw"
      },
      "source": [
        "**Κωδικοποίηση Επισημειώσεων (Labels):**\r\n",
        "\r\n",
        "Αρχικά οι επισημειώσεις των παραδειγμάτων εκπαίδευσης έχουν την μορφή κειμένου (positive,\r\n",
        "neutral, negative...). Τις κωδικοποιούμε, ώστε κάθε κλάση να αντιστοιχεί σε έναν\r\n",
        "συγκεκριμένο αριθμό."
      ]
    },
    {
      "cell_type": "code",
      "metadata": {
        "id": "suBGDHftYRgO"
      },
      "source": [
        "# convert data labels from strings to integers\r\n",
        "le1 = preprocessing.LabelEncoder()\r\n",
        "le1.fit(y_train1)\r\n",
        "# print(le.classes_)\r\n",
        "\r\n",
        "y_train1 = le1.transform(y_train1)  # EX1\r\n",
        "y_test1 = le1.transform(y_test1)  # EX1\r\n",
        "n_classes1 = le1.classes_.size  # EX1 - LabelEncoder.classes_.size\r\n",
        "\r\n",
        "# convert data labels from strings to integers\r\n",
        "le2 = preprocessing.LabelEncoder()\r\n",
        "le2.fit(y_train2)\r\n",
        "# print(le.classes_)\r\n",
        "\r\n",
        "y_train2 = le2.transform(y_train2)  # EX1\r\n",
        "y_test2 = le2.transform(y_test2)  # EX1\r\n",
        "n_classes2 = le2.classes_.size  # EX1 - LabelEncoder.classes_.size\r\n"
      ],
      "execution_count": null,
      "outputs": []
    },
    {
      "cell_type": "markdown",
      "metadata": {
        "id": "L9Z9icx0L7wI"
      },
      "source": [
        "Τυπώνουμε παρακάτω τα πρώτα 10 labels\r\n",
        "από τα δεδομένα εκπαίδευσης και τις αντιστοιχίες τους σε αριθμούς:"
      ]
    },
    {
      "cell_type": "code",
      "metadata": {
        "colab": {
          "base_uri": "https://localhost:8080/"
        },
        "id": "pkObposvLxEJ",
        "outputId": "86760022-088b-4078-8419-c4e9c9c1c653"
      },
      "source": [
        "print(\"Semeval Dataset\")\r\n",
        "print(\"Unencoded labels from the training set: \")\r\n",
        "print(le1.inverse_transform(y_train1[0:10]))\r\n",
        "print(\"Encoded labels from the training set: \")\r\n",
        "print(y_train1[0:10])\r\n",
        "\r\n",
        "print()\r\n",
        "print(\"MR Dataset\")\r\n",
        "print(\"Unencoded labels from the training set: \")\r\n",
        "print(le2.inverse_transform(y_train2[0:10]))\r\n",
        "print(\"Encoded labels from the training set: \")\r\n",
        "print(y_train2[0:10])"
      ],
      "execution_count": null,
      "outputs": [
        {
          "output_type": "stream",
          "text": [
            "Semeval Dataset\n",
            "Unencoded labels from the training set: \n",
            "['neutral' 'neutral' 'negative' 'neutral' 'neutral' 'positive' 'positive'\n",
            " 'neutral' 'positive' 'positive']\n",
            "Encoded labels from the training set: \n",
            "[1 1 0 1 1 2 2 1 2 2]\n",
            "\n",
            "MR Dataset\n",
            "Unencoded labels from the training set: \n",
            "['positive' 'positive' 'positive' 'positive' 'positive' 'positive'\n",
            " 'positive' 'positive' 'positive' 'positive']\n",
            "Encoded labels from the training set: \n",
            "[1 1 1 1 1 1 1 1 1 1]\n"
          ],
          "name": "stdout"
        }
      ]
    },
    {
      "cell_type": "markdown",
      "metadata": {
        "id": "m468ZiGsPIM6"
      },
      "source": [
        "**Λεκτική Ανάλυση (Tokenization):**\r\n",
        "\r\n",
        "Μετατρέπουμε το κείμενο από μία ακολουθία χαρακτήρων, σε μία ακολουθία\r\n",
        "από λεκτικές μονάδες ή όρους (tokens ή terms), όπως λέξεις, σημεία στίξης, αριθμούς κλπ. Τυπώνουμε παρακάτω τα πρώτα 10 παραδείγματα από τα δεδομένα εκπαίδευσης:"
      ]
    },
    {
      "cell_type": "code",
      "metadata": {
        "colab": {
          "base_uri": "https://localhost:8080/"
        },
        "id": "rYP5j0J_YPqC",
        "outputId": "7c8818ff-0c90-4894-fd53-b579f273693e"
      },
      "source": [
        "print(\"Semeval Dataset\")\r\n",
        "\r\n",
        "# Define our PyTorch-based Dataset\r\n",
        "train_set1 = SentenceDataset(X_train1, y_train1, word2idx)\r\n",
        "test_set1 = SentenceDataset(X_test1, y_test1, word2idx)\r\n",
        "\r\n",
        "# print(train_set.__getitem__(0))\r\n",
        "for i in range(10):\r\n",
        "  print(train_set1.data[i])\r\n",
        "\r\n",
        "print()\r\n",
        "print(\"MR Dataset\")\r\n",
        "# Define our PyTorch-based Dataset\r\n",
        "train_set2 = SentenceDataset(X_train2, y_train2, word2idx)\r\n",
        "test_set2 = SentenceDataset(X_test2, y_test2, word2idx)\r\n",
        "\r\n",
        "# print(train_set.__getitem__(0))\r\n",
        "for i in range(10):\r\n",
        "  print(train_set2.data[i])"
      ],
      "execution_count": null,
      "outputs": [
        {
          "output_type": "stream",
          "text": [
            "Semeval Dataset\n",
            "['Won', 'the', 'match', '#getin', '.', 'Plus', '\\\\', 'u002c', 'tomorrow', 'is', 'a', 'very', 'busy', 'day', '\\\\', 'u002c', 'with', 'Awareness', 'Day', '\\\\', 'u2019s', 'and', 'debates', '.', 'Gulp', '.', 'Debates', '...']\n",
            "['Some', 'areas', 'of', 'New', 'England', 'could', 'see', 'the', 'first', 'flakes', 'of', 'the', 'season', 'Tuesday', '.']\n",
            "['@francesco_con40', '2nd', 'worst', 'QB', '.', 'DEFINITELY', 'Tony', 'Romo', '.', 'The', 'man', 'who', 'likes', 'to', 'share', 'the', 'ball', 'with', 'everyone', '.', 'Including', 'the', 'other', 'team', '.']\n",
            "['#Thailand', 'Washington', '-', 'US', 'President', 'Barack', 'Obama', 'vowed', 'Wednesday', 'as', 'he', 'visited', 'storm-ravaged', 'New', 'Jersey', 'shore', 'to', '...', 'http://t.co/Xzl4LFhs']\n",
            "['Did', 'y', '\\\\', 'u2019all', 'hear', 'what', 'Tony', 'Romo', 'dressed', 'up', 'as', 'for', 'Halloween', '?', 'A', 'Giants', 'quaterback', '!', 'Cause', 'that', '\\\\', 'u2019s', 'all', 'he', 'could', 'throw', 'to', 'sunday', 'night', '.']\n",
            "['Tim', 'Tebow', 'may', 'be', 'availible', '!', 'Wow', 'Jerry', '\\\\', 'u002c', 'what', 'the', 'heck', 'you', 'waiting', 'for', '!', 'http://t.co/a7z9FBL4']\n",
            "['@mariakaykay', 'aga', 'tayo', 'tomorrow', 'ah', '.', ':)', 'Good', 'night', '\\\\', 'u002c', 'Ces', '.', 'Love', 'you', '!', '>:D', '<']\n",
            "['Tina', 'Fey', '&', 'Amy', 'Poehler', 'are', 'hosting', 'the', 'Golden', 'Globe', 'awards', 'on', 'January', '13', '.', 'What', 'do', 'you', 'think', '?']\n",
            "['Lunch', 'from', 'my', 'new', 'Lil', 'spot', '...', 'THE', 'COTTON', 'BOWL', '...', 'pretty', 'good', '#1st', '#time', '#will', 'be', 'going', 'back', '#', 'http://t.co/Dbbj8xLZ']\n",
            "['SNC', 'Halloween', 'Pr', '.', 'Pumped', '.', 'Let', '\\\\', 'u2019s', 'work', 'it', 'for', 'Sunday', '...', 'Packers', 'vs', '...', 'who', 'knows', 'or', 'caresn', '.', '#SNC', '#cheerpracticeonhalloween']\n",
            "\n",
            "MR Dataset\n",
            "['the', 'rock', 'is', 'destined', 'to', 'be', 'the', '21st', \"century's\", 'new', '\"', 'conan', '\"', 'and', 'that', \"he's\", 'going', 'to', 'make', 'a', 'splash', 'even', 'greater', 'than', 'arnold', 'schwarzenegger', ',', 'jean-claud', 'van', 'damme', 'or', 'steven', 'segal', '.']\n",
            "['the', 'gorgeously', 'elaborate', 'continuation', 'of', '\"', 'the', 'lord', 'of', 'the', 'rings', '\"', 'trilogy', 'is', 'so', 'huge', 'that', 'a', 'column', 'of', 'words', 'cannot', 'adequately', 'describe', 'co-writer', '/', 'director', 'peter', \"jackson's\", 'expanded', 'vision', 'of', 'j', '.', 'r', '.', 'r', '.', \"tolkien's\", 'middle-earth', '.']\n",
            "['effective', 'but', 'too-tepid', 'biopic']\n",
            "['if', 'you', 'sometimes', 'like', 'to', 'go', 'to', 'the', 'movies', 'to', 'have', 'fun', ',', 'wasabi', 'is', 'a', 'good', 'place', 'to', 'start', '.']\n",
            "['emerges', 'as', 'something', 'rare', ',', 'an', 'issue', 'movie', \"that's\", 'so', 'honest', 'and', 'keenly', 'observed', 'that', 'it', \"doesn't\", 'feel', 'like', 'one', '.']\n",
            "['the', 'film', 'provides', 'some', 'great', 'insight', 'into', 'the', 'neurotic', 'mindset', 'of', 'all', 'comics', '-', '-', 'even', 'those', 'who', 'have', 'reached', 'the', 'absolute', 'top', 'of', 'the', 'game', '.']\n",
            "['offers', 'that', 'rare', 'combination', 'of', 'entertainment', 'and', 'education', '.']\n",
            "['perhaps', 'no', 'picture', 'ever', 'made', 'has', 'more', 'literally', 'showed', 'that', 'the', 'road', 'to', 'hell', 'is', 'paved', 'with', 'good', 'intentions', '.']\n",
            "['steers', 'turns', 'in', 'a', 'snappy', 'screenplay', 'that', 'curls', 'at', 'the', 'edges', ';', \"it's\", 'so', 'clever', 'you', 'want', 'to', 'hate', 'it', '.', 'but', 'he', 'somehow', 'pulls', 'it', 'off', '.']\n",
            "['take', 'care', 'of', 'my', 'cat', 'offers', 'a', 'refreshingly', 'different', 'slice', 'of', 'asian', 'cinema', '.']\n"
          ],
          "name": "stdout"
        }
      ]
    },
    {
      "cell_type": "markdown",
      "metadata": {
        "id": "Gc3xbTvrTzkm"
      },
      "source": [
        "**Κωδικοποίηση Παραδειγμάτων (Λέξεων):**\r\n",
        "\r\n",
        "Χαρτογραφούμε κάθε όρο (token - term) σε ένα αριθμό, ώστε να μπορεί το embedding layer να τον αντιστοιχίσει στη σωστή διανυσματική αναπαράσταση (word embedding).\r\n",
        "\r\n",
        "Φροντίζουμε όλα τα παραδείγματα να έχουν το ίδιο μήκος, ώστε να μπορούν να\r\n",
        "εκτελεστούν πράξεις γραμμικής άλγεβρας, όπως πολλαπλασιασμός πινάκων. Επιλέγουμε λοιπόν ένα μέγιστο μήκος προτάσεων και συμπληρώνουμε με μηδενικά\r\n",
        "στοιχεία τις προτάσεις μικρότερου μήκους (zero-padding) ή να αφαιρούμε λέξεις που ξεπερνούν\r\n",
        "το επιλεγμένο μήκος.\r\n",
        "\r\n",
        "Τυπώνουμε την κατανομή με τα μήκη των προτάσεων στο\r\n",
        "training set για να διαλέξουμε ένα μήκος το οποίο να καλύπτει την πλειοψηφία, αγνοώντας\r\n",
        "τους outliers. Επιλέξαμε το 50, που φαίνεται ικανοποιητική επιλογή τόσο για το MR όσο και για το Semeval2017A dataset."
      ]
    },
    {
      "cell_type": "code",
      "metadata": {
        "colab": {
          "base_uri": "https://localhost:8080/",
          "height": 564
        },
        "id": "M6n2PbMas9KG",
        "outputId": "ac80129b-a13a-45c8-b4dd-89cc12000d1c"
      },
      "source": [
        "print(\"Semeval\")\r\n",
        "X = [len(i) for i in X_train1]\r\n",
        "x,y = np.unique(X,return_counts=True)\r\n",
        "plt.scatter(x,y)\r\n",
        "plt.show()\r\n",
        "\r\n",
        "print()\r\n",
        "print(\"MR Dataset\")\r\n",
        "\r\n",
        "X = [len(i) for i in X_train2]\r\n",
        "x,y = np.unique(X,return_counts=True)\r\n",
        "plt.scatter(x,y)\r\n",
        "plt.show()\r\n"
      ],
      "execution_count": null,
      "outputs": [
        {
          "output_type": "stream",
          "text": [
            "Semeval\n"
          ],
          "name": "stdout"
        },
        {
          "output_type": "display_data",
          "data": {
            "image/png": "[encoded data removed]",
            "text/plain": [
              "<Figure size 432x288 with 1 Axes>"
            ]
          },
          "metadata": {
            "tags": [],
            "needs_background": "light"
          }
        },
        {
          "output_type": "stream",
          "text": [
            "\n",
            "MR Dataset\n"
          ],
          "name": "stdout"
        },
        {
          "output_type": "display_data",
          "data": {
            "image/png": "[encoded data removed]",
            "text/plain": [
              "<Figure size 432x288 with 1 Axes>"
            ]
          },
          "metadata": {
            "tags": [],
            "needs_background": "light"
          }
        }
      ]
    },
    {
      "cell_type": "markdown",
      "metadata": {
        "id": "Ov9X6_hdcRnP"
      },
      "source": [
        "Αφού έχουμε υλοποιήσει τη μέθοδο getitem της κλάσης SentenceDataset, τυπώνουμε παρακάτω 5 παραδείγματα στην αρχική τους μορφή και όπως τα επιστρέφει η κλάση SentenceDataset:\r\n"
      ]
    },
    {
      "cell_type": "code",
      "metadata": {
        "id": "uzTqRk1SbQ2G"
      },
      "source": [
        "def printExamples(X_train,train_set):\r\n",
        "  for i in [20,45,23,1,89]:\r\n",
        "    print(\"Original sentence is: \")\r\n",
        "    print(X_train[i],'\\n')\r\n",
        "    \r\n",
        "    enc = train_set[i]\r\n",
        "    print(\"Encoded sentence is: \")\r\n",
        "    print(enc[0],'\\n')\r\n",
        "    print('Label is: ',enc[1])\r\n",
        "    print('Length is: ',enc[2],'\\n')\r\n",
        "    print('-----------------------------------')\r\n",
        "  return"
      ],
      "execution_count": null,
      "outputs": []
    },
    {
      "cell_type": "code",
      "metadata": {
        "colab": {
          "base_uri": "https://localhost:8080/"
        },
        "id": "Y8LW_JifbWKO",
        "outputId": "e993d754-433d-45e9-f1a3-180739372205"
      },
      "source": [
        "printExamples(X_train1,train_set1)"
      ],
      "execution_count": null,
      "outputs": [
        {
          "output_type": "stream",
          "text": [
            "Original sentence is: \n",
            "['Gary', 'Ablett', 'wins', 'the', 'AFLPA', 'MVP', 'for', 'the', '4th', 'time', 'in', 'his', 'career', '.', 'He', 'should', 'have', 'started', 'his', 'speech', 'with', '-', '\"', 'Yeah', '\\\\', 'u002c', 'I', '\\\\', 'u2019d', '...', 'http://t.co/K31dSryH'] \n",
            "\n",
            "Encoded sentence is: \n",
            "[4.00001e+05 4.00001e+05 1.89100e+03 1.00000e+00 4.00001e+05 4.00001e+05\n",
            " 1.10000e+01 1.00000e+00 4.61800e+03 8.00000e+01 7.00000e+00 2.70000e+01\n",
            " 4.33000e+02 3.00000e+00 4.00001e+05 1.90000e+02 3.40000e+01 5.52000e+02\n",
            " 2.70000e+01 1.29400e+03 1.80000e+01 1.20000e+01 9.00000e+00 4.00001e+05\n",
            " 7.95800e+03 4.00001e+05 4.00001e+05 7.95800e+03 3.40841e+05 4.35000e+02\n",
            " 4.00001e+05 0.00000e+00 0.00000e+00 0.00000e+00 0.00000e+00 0.00000e+00\n",
            " 0.00000e+00 0.00000e+00 0.00000e+00 0.00000e+00 0.00000e+00 0.00000e+00\n",
            " 0.00000e+00 0.00000e+00 0.00000e+00 0.00000e+00 0.00000e+00 0.00000e+00\n",
            " 0.00000e+00 0.00000e+00] \n",
            "\n",
            "Label is:  2\n",
            "Length is:  31 \n",
            "\n",
            "-----------------------------------\n",
            "Original sentence is: \n",
            "['Who', '\\\\', 'u2019s', 'going', 'to', 'Concords', 'football', 'game', 'this', 'Saturday', '?'] \n",
            "\n",
            "Encoded sentence is: \n",
            "[4.00001e+05 7.95800e+03 4.86920e+04 2.23000e+02 5.00000e+00 4.00001e+05\n",
            " 5.36000e+02 1.87000e+02 3.80000e+01 4.00001e+05 1.89000e+02 0.00000e+00\n",
            " 0.00000e+00 0.00000e+00 0.00000e+00 0.00000e+00 0.00000e+00 0.00000e+00\n",
            " 0.00000e+00 0.00000e+00 0.00000e+00 0.00000e+00 0.00000e+00 0.00000e+00\n",
            " 0.00000e+00 0.00000e+00 0.00000e+00 0.00000e+00 0.00000e+00 0.00000e+00\n",
            " 0.00000e+00 0.00000e+00 0.00000e+00 0.00000e+00 0.00000e+00 0.00000e+00\n",
            " 0.00000e+00 0.00000e+00 0.00000e+00 0.00000e+00 0.00000e+00 0.00000e+00\n",
            " 0.00000e+00 0.00000e+00 0.00000e+00 0.00000e+00 0.00000e+00 0.00000e+00\n",
            " 0.00000e+00 0.00000e+00] \n",
            "\n",
            "Label is:  1\n",
            "Length is:  11 \n",
            "\n",
            "-----------------------------------\n",
            "Original sentence is: \n",
            "['Lana', 'Del', 'Rey', 'at', 'Hammersmith', 'Apollo', 'in', 'May', '...', 'Very', 'badly', 'want', 'tickets'] \n",
            "\n",
            "Encoded sentence is: \n",
            "[4.00001e+05 4.00001e+05 4.00001e+05 2.30000e+01 4.00001e+05 4.00001e+05\n",
            " 7.00000e+00 4.00001e+05 4.35000e+02 4.00001e+05 3.91500e+03 3.04000e+02\n",
            " 3.64100e+03 0.00000e+00 0.00000e+00 0.00000e+00 0.00000e+00 0.00000e+00\n",
            " 0.00000e+00 0.00000e+00 0.00000e+00 0.00000e+00 0.00000e+00 0.00000e+00\n",
            " 0.00000e+00 0.00000e+00 0.00000e+00 0.00000e+00 0.00000e+00 0.00000e+00\n",
            " 0.00000e+00 0.00000e+00 0.00000e+00 0.00000e+00 0.00000e+00 0.00000e+00\n",
            " 0.00000e+00 0.00000e+00 0.00000e+00 0.00000e+00 0.00000e+00 0.00000e+00\n",
            " 0.00000e+00 0.00000e+00 0.00000e+00 0.00000e+00 0.00000e+00 0.00000e+00\n",
            " 0.00000e+00 0.00000e+00] \n",
            "\n",
            "Label is:  2\n",
            "Length is:  13 \n",
            "\n",
            "-----------------------------------\n",
            "Original sentence is: \n",
            "['Some', 'areas', 'of', 'New', 'England', 'could', 'see', 'the', 'first', 'flakes', 'of', 'the', 'season', 'Tuesday', '.'] \n",
            "\n",
            "Encoded sentence is: \n",
            "[4.00001e+05 6.20000e+02 4.00000e+00 4.00001e+05 4.00001e+05 9.50000e+01\n",
            " 2.54000e+02 1.00000e+00 5.90000e+01 2.63010e+04 4.00000e+00 1.00000e+00\n",
            " 1.96000e+02 4.00001e+05 3.00000e+00 0.00000e+00 0.00000e+00 0.00000e+00\n",
            " 0.00000e+00 0.00000e+00 0.00000e+00 0.00000e+00 0.00000e+00 0.00000e+00\n",
            " 0.00000e+00 0.00000e+00 0.00000e+00 0.00000e+00 0.00000e+00 0.00000e+00\n",
            " 0.00000e+00 0.00000e+00 0.00000e+00 0.00000e+00 0.00000e+00 0.00000e+00\n",
            " 0.00000e+00 0.00000e+00 0.00000e+00 0.00000e+00 0.00000e+00 0.00000e+00\n",
            " 0.00000e+00 0.00000e+00 0.00000e+00 0.00000e+00 0.00000e+00 0.00000e+00\n",
            " 0.00000e+00 0.00000e+00] \n",
            "\n",
            "Label is:  1\n",
            "Length is:  15 \n",
            "\n",
            "-----------------------------------\n",
            "Original sentence is: \n",
            "['@_Wayward_Son', 'Sam', 'groaned', '.', '\"', 'Don', '\\\\', 'u2019t', '/', 'remind', '/', 'me', '...', '\"', 'he', 'murmured', '.', 'He', 'adjusted', 'himself', 'in', 'his', 'pants', 'and', 'sat', 'up', '.', '\"', 'We', 'leaving', 'then', '?', '\"'] \n",
            "\n",
            "Encoded sentence is: \n",
            "[4.00001e+05 4.00001e+05 5.87380e+04 3.00000e+00 9.00000e+00 4.00001e+05\n",
            " 7.95800e+03 8.21860e+04 2.75000e+02 9.79500e+03 2.75000e+02 2.86000e+02\n",
            " 4.35000e+02 9.00000e+00 1.90000e+01 6.09680e+04 3.00000e+00 4.00001e+05\n",
            " 6.50100e+03 6.71000e+02 7.00000e+00 2.70000e+01 8.17700e+03 6.00000e+00\n",
            " 3.22400e+03 6.10000e+01 3.00000e+00 9.00000e+00 4.00001e+05 1.22100e+03\n",
            " 1.28000e+02 1.89000e+02 9.00000e+00 0.00000e+00 0.00000e+00 0.00000e+00\n",
            " 0.00000e+00 0.00000e+00 0.00000e+00 0.00000e+00 0.00000e+00 0.00000e+00\n",
            " 0.00000e+00 0.00000e+00 0.00000e+00 0.00000e+00 0.00000e+00 0.00000e+00\n",
            " 0.00000e+00 0.00000e+00] \n",
            "\n",
            "Label is:  1\n",
            "Length is:  33 \n",
            "\n",
            "-----------------------------------\n"
          ],
          "name": "stdout"
        }
      ]
    },
    {
      "cell_type": "code",
      "metadata": {
        "colab": {
          "base_uri": "https://localhost:8080/"
        },
        "id": "Ej-qhIt6Sk_0",
        "outputId": "00cc5970-b859-4683-805f-acacfd417d00"
      },
      "source": [
        "printExamples(X_train2,train_set2)"
      ],
      "execution_count": null,
      "outputs": [
        {
          "output_type": "stream",
          "text": [
            "Original sentence is: \n",
            "['a', 'thoughtful', ',', 'provocative', ',', 'insistently', 'humanizing', 'film', '.'] \n",
            "\n",
            "Encoded sentence is: \n",
            "[8.0000e+00 1.6455e+04 2.0000e+00 1.1008e+04 2.0000e+00 7.0583e+04\n",
            " 9.3310e+04 3.2000e+02 3.0000e+00 0.0000e+00 0.0000e+00 0.0000e+00\n",
            " 0.0000e+00 0.0000e+00 0.0000e+00 0.0000e+00 0.0000e+00 0.0000e+00\n",
            " 0.0000e+00 0.0000e+00 0.0000e+00 0.0000e+00 0.0000e+00 0.0000e+00\n",
            " 0.0000e+00 0.0000e+00 0.0000e+00 0.0000e+00 0.0000e+00 0.0000e+00\n",
            " 0.0000e+00 0.0000e+00 0.0000e+00 0.0000e+00 0.0000e+00 0.0000e+00\n",
            " 0.0000e+00 0.0000e+00 0.0000e+00 0.0000e+00 0.0000e+00 0.0000e+00\n",
            " 0.0000e+00 0.0000e+00 0.0000e+00 0.0000e+00 0.0000e+00 0.0000e+00\n",
            " 0.0000e+00 0.0000e+00] \n",
            "\n",
            "Label is:  1\n",
            "Length is:  9 \n",
            "\n",
            "-----------------------------------\n",
            "Original sentence is: \n",
            "['karmen', 'moves', 'like', 'rhythm', 'itself', ',', 'her', 'lips', 'chanting', 'to', 'the', 'beat', ',', 'her', 'long', ',', 'braided', 'hair', 'doing', 'little', 'to', 'wipe', 'away', 'the', 'jeweled', 'beads', 'of', 'sweat', '.'] \n",
            "\n",
            "Encoded sentence is: \n",
            "[1.42324e+05 2.47900e+03 1.18000e+02 7.28400e+03 1.00400e+03 2.00000e+00\n",
            " 7.20000e+01 1.21110e+04 1.07540e+04 5.00000e+00 1.00000e+00 9.61000e+02\n",
            " 2.00000e+00 7.20000e+01 1.74000e+02 2.00000e+00 4.51990e+04 3.01800e+03\n",
            " 9.15000e+02 3.34000e+02 5.00000e+00 1.17460e+04 4.21000e+02 1.00000e+00\n",
            " 6.13570e+04 1.91600e+04 4.00000e+00 1.13650e+04 3.00000e+00 0.00000e+00\n",
            " 0.00000e+00 0.00000e+00 0.00000e+00 0.00000e+00 0.00000e+00 0.00000e+00\n",
            " 0.00000e+00 0.00000e+00 0.00000e+00 0.00000e+00 0.00000e+00 0.00000e+00\n",
            " 0.00000e+00 0.00000e+00 0.00000e+00 0.00000e+00 0.00000e+00 0.00000e+00\n",
            " 0.00000e+00 0.00000e+00] \n",
            "\n",
            "Label is:  1\n",
            "Length is:  29 \n",
            "\n",
            "-----------------------------------\n",
            "Original sentence is: \n",
            "['not', 'for', 'everyone', ',', 'but', 'for', 'those', 'with', 'whom', 'it', 'will', 'connect', ',', \"it's\", 'a', 'nice', 'departure', 'from', 'standard', 'moviegoing', 'fare', '.'] \n",
            "\n",
            "Encoded sentence is: \n",
            "[3.70000e+01 1.10000e+01 1.40300e+03 2.00000e+00 3.50000e+01 1.10000e+01\n",
            " 1.56000e+02 1.80000e+01 1.23200e+03 2.10000e+01 4.40000e+01 6.48200e+03\n",
            " 2.00000e+00 4.00001e+05 8.00000e+00 3.08300e+03 3.73800e+03 2.60000e+01\n",
            " 1.22500e+03 6.46730e+04 6.77000e+03 3.00000e+00 0.00000e+00 0.00000e+00\n",
            " 0.00000e+00 0.00000e+00 0.00000e+00 0.00000e+00 0.00000e+00 0.00000e+00\n",
            " 0.00000e+00 0.00000e+00 0.00000e+00 0.00000e+00 0.00000e+00 0.00000e+00\n",
            " 0.00000e+00 0.00000e+00 0.00000e+00 0.00000e+00 0.00000e+00 0.00000e+00\n",
            " 0.00000e+00 0.00000e+00 0.00000e+00 0.00000e+00 0.00000e+00 0.00000e+00\n",
            " 0.00000e+00 0.00000e+00] \n",
            "\n",
            "Label is:  1\n",
            "Length is:  22 \n",
            "\n",
            "-----------------------------------\n",
            "Original sentence is: \n",
            "['the', 'gorgeously', 'elaborate', 'continuation', 'of', '\"', 'the', 'lord', 'of', 'the', 'rings', '\"', 'trilogy', 'is', 'so', 'huge', 'that', 'a', 'column', 'of', 'words', 'cannot', 'adequately', 'describe', 'co-writer', '/', 'director', 'peter', \"jackson's\", 'expanded', 'vision', 'of', 'j', '.', 'r', '.', 'r', '.', \"tolkien's\", 'middle-earth', '.'] \n",
            "\n",
            "Encoded sentence is: \n",
            "[1.00000e+00 7.86160e+04 5.13500e+03 1.01170e+04 4.00000e+00 9.00000e+00\n",
            " 1.00000e+00 2.37100e+03 4.00000e+00 1.00000e+00 6.82000e+03 9.00000e+00\n",
            " 1.23050e+04 1.50000e+01 1.01000e+02 1.32500e+03 1.30000e+01 8.00000e+00\n",
            " 3.23600e+03 4.00000e+00 1.37500e+03 1.12000e+03 1.24240e+04 4.46700e+03\n",
            " 4.77680e+04 2.75000e+02 3.70000e+02 1.29500e+03 4.00001e+05 2.85300e+03\n",
            " 3.13900e+03 4.00000e+00 6.89200e+03 3.00000e+00 1.91200e+03 3.00000e+00\n",
            " 1.91200e+03 3.00000e+00 4.00001e+05 5.57540e+04 3.00000e+00 0.00000e+00\n",
            " 0.00000e+00 0.00000e+00 0.00000e+00 0.00000e+00 0.00000e+00 0.00000e+00\n",
            " 0.00000e+00 0.00000e+00] \n",
            "\n",
            "Label is:  1\n",
            "Length is:  41 \n",
            "\n",
            "-----------------------------------\n",
            "Original sentence is: \n",
            "['a', 'sports', 'movie', 'with', 'action', \"that's\", 'exciting', 'on', 'the', 'field', 'and', 'a', 'story', 'you', 'care', 'about', 'off', 'it', '.'] \n",
            "\n",
            "Encoded sentence is: \n",
            "[8.00000e+00 8.85000e+02 1.00600e+03 1.80000e+01 6.09000e+02 4.00001e+05\n",
            " 6.35800e+03 1.40000e+01 1.00000e+00 6.11000e+02 6.00000e+00 8.00000e+00\n",
            " 5.24000e+02 8.20000e+01 7.58000e+02 6.00000e+01 1.39000e+02 2.10000e+01\n",
            " 3.00000e+00 0.00000e+00 0.00000e+00 0.00000e+00 0.00000e+00 0.00000e+00\n",
            " 0.00000e+00 0.00000e+00 0.00000e+00 0.00000e+00 0.00000e+00 0.00000e+00\n",
            " 0.00000e+00 0.00000e+00 0.00000e+00 0.00000e+00 0.00000e+00 0.00000e+00\n",
            " 0.00000e+00 0.00000e+00 0.00000e+00 0.00000e+00 0.00000e+00 0.00000e+00\n",
            " 0.00000e+00 0.00000e+00 0.00000e+00 0.00000e+00 0.00000e+00 0.00000e+00\n",
            " 0.00000e+00 0.00000e+00] \n",
            "\n",
            "Label is:  1\n",
            "Length is:  19 \n",
            "\n",
            "-----------------------------------\n"
          ],
          "name": "stdout"
        }
      ]
    },
    {
      "cell_type": "markdown",
      "metadata": {
        "id": "FsUZWY2Fc7Qm"
      },
      "source": [
        "#2,3. Μοντέλο - Διαδικασία Εκπαίδευσης"
      ]
    },
    {
      "cell_type": "markdown",
      "metadata": {
        "id": "spCrlpEwnb_B"
      },
      "source": [
        "Σχεδιάσαμε ένα νευρωνικό δίκτυο, το οποίο 1) θα δημιουργεί μία\r\n",
        "συνεχή διανυσματική αναπαράσταση για κάθε όρο σε μία πρόταση με την χρήση ενός Embedding\r\n",
        "layer, 2) θα δημιουργεί μία διανυσματική αναπαράσταση για όλο το κείμενο ενός παραδείγματος, 3)\r\n",
        "3\r\n",
        "θα κατηγοριοποιεί το κείμενο βάσει της αναπαράστασης του στην σωστή κλάση.\r\n",
        "\r\n",
        "Στη συνέχεια, υλοποιήσαμε την διαδικασία εκπαίδευσης του δικτύου, δηλαδή οργανώσαμε τα παραδείγματα σε mini-batches και να εκτελέσουμε stochastic gradient descent για\r\n",
        "να ενημερώνουμε τα βάρη του δικτύου."
      ]
    },
    {
      "cell_type": "markdown",
      "metadata": {
        "id": "Hs2qGVWztsB7"
      },
      "source": [
        "**Φόρτωση Παραδειγμάτων (DataLoaders)**"
      ]
    },
    {
      "cell_type": "code",
      "metadata": {
        "id": "n2dI7NJIYH05"
      },
      "source": [
        "# EX4 - Define our PyTorch-based DataLoader\r\n",
        "train_loader1 = DataLoader(dataset=train_set1, batch_size=BATCH_SIZE, shuffle=True)   # EX7\r\n",
        "test_loader1 = DataLoader(dataset=test_set1, batch_size=BATCH_SIZE, shuffle=False)  # EX7\r\n",
        "\r\n",
        "train_loader2 = DataLoader(dataset=train_set2, batch_size=BATCH_SIZE, shuffle=True)   # EX7\r\n",
        "test_loader2 = DataLoader(dataset=test_set2, batch_size=BATCH_SIZE, shuffle=False)  # EX7\r\n"
      ],
      "execution_count": null,
      "outputs": []
    },
    {
      "cell_type": "markdown",
      "metadata": {
        "id": "QzNGCkgOt-16"
      },
      "source": [
        "**Βελτιστοποίηση:**\r\n",
        "\r\n",
        "Για την βελτιστοποίηση του μοντέλου ορίσαμε τα εξής:\r\n",
        "1. Κριτήριο. Αν το πρόβλημα κατηγοριοποίησης έχει 2 κλάσεις τότε χρησιμοποιούμε το\r\n",
        "BCEWithLogitsLoss, ενώ αν έχει περισσότερες το CrossEntropyLoss.\r\n",
        "2. Παράμετροι (επιλογή παραμέτρων οι οποίες θα βελτιστοποιηθούν)\r\n",
        "3. Optimizer. Επιλέξαμε τον αλγόριθμο βελτιστοποίησης Adam."
      ]
    },
    {
      "cell_type": "code",
      "metadata": {
        "id": "7V-5qMIzZSP7"
      },
      "source": [
        "#############################################################################\r\n",
        "# Model Definition (Model, Loss Function, Optimizer)\r\n",
        "#############################################################################\r\n",
        "model1 = BaselineDNN(output_size= n_classes1,  # EX8\r\n",
        "                    embeddings=embeddings,\r\n",
        "                    trainable_emb=EMB_TRAINABLE)\r\n",
        "\r\n",
        "# move the mode weight to cpu or gpu\r\n",
        "model1.to(DEVICE)\r\n",
        "\r\n",
        "# We optimize ONLY those parameters that are trainable (p.requires_grad==True)\r\n",
        "criterion1 = torch.nn.CrossEntropyLoss() # EX8\r\n",
        "\r\n",
        "parameters1 = model1.parameters()\r\n",
        "\r\n",
        "optimizer1 = torch.optim.Adam(parameters1)  # EX8\r\n",
        "\r\n",
        "\r\n",
        "model2 = BaselineDNN(output_size= n_classes2,  # EX8\r\n",
        "                    embeddings=embeddings,\r\n",
        "                    trainable_emb=EMB_TRAINABLE)\r\n",
        "\r\n",
        "# move the mode weight to cpu or gpu\r\n",
        "model2.to(DEVICE)\r\n",
        "\r\n",
        "# We optimize ONLY those parameters that are trainable (p.requires_grad==True)\r\n",
        "criterion2 = torch.nn.BCEWithLogitsLoss()\r\n",
        "\r\n",
        "parameters2 = model2.parameters()\r\n",
        "optimizer2 = torch.optim.Adam(parameters2)  # EX8\r\n"
      ],
      "execution_count": null,
      "outputs": []
    },
    {
      "cell_type": "markdown",
      "metadata": {
        "id": "aQPRtzyfup4e"
      },
      "source": [
        "**Αξιολόγηση:**\r\n",
        "\r\n",
        "Επιλέξαμε να εκπαιδεύσουμε το μοντέλο μας σε 50 εποχές (προεπιλεγμένη τιμή).\r\n",
        "\r\n",
        "Για κάθε ένα από τα 2 datasets αναφέρουμε τις επιδόσεις του μοντέλου στις μετρικές: accuracy, F1 score (macro average), recall (macro average. Επίσης, δημιουργήσαμε γραφικές παραστάσεις, στις οποίες θα φαίνονται οι καμπύλες εκπαίδευσης του μοντέλου (training και test loss) ανά εποχή.\r\n",
        "\r\n",
        "Για την αξιολόγηση του μοντέλου μας, χρησιμοποιήσαμε τη βιβλιοθήκη sklearn.metrics."
      ]
    },
    {
      "cell_type": "code",
      "metadata": {
        "id": "TVFb3oupejvk"
      },
      "source": [
        "#############################################################################\r\n",
        "# Training Pipeline\r\n",
        "#############################################################################\r\n",
        "def training_pipeline(train_loader,test_loader,model,criterion,optimizer,DATASET):\r\n",
        "  total_train_losses = []\r\n",
        "  total_test_losses = []\r\n",
        "  for epoch in range(1, EPOCHS + 1):\r\n",
        "      # train the model for one epoch\r\n",
        "      train_dataset(epoch, train_loader, model, criterion, optimizer,DATASET)\r\n",
        "\r\n",
        "      # evaluate the performance of the model, on both data sets\r\n",
        "      train_loss, (y_train_gold, y_train_pred) = eval_dataset(train_loader,\r\n",
        "                                                            model,\r\n",
        "                                                            criterion, DATASET)\r\n",
        "\r\n",
        "      test_loss, (y_test_gold, y_test_pred) = eval_dataset(test_loader,\r\n",
        "                                                         model,\r\n",
        "                                                         criterion, DATASET)\r\n",
        "      total_train_losses.append(train_loss)\r\n",
        "      total_test_losses.append(test_loss)\r\n",
        "\r\n",
        "      # Convert predictions and golds to a plottable format\r\n",
        "\r\n",
        "      y_train_true = y_train_gold\r\n",
        "      y_test_true = y_test_gold\r\n",
        "      # y_train_pred = y_train_pred\r\n",
        "      # y_test_pred = y_test_pred\r\n",
        "\r\n",
        "  # Print statistics\r\n",
        "  print('Train loss: ',train_loss)\r\n",
        "  print('Test loss: ',test_loss)\r\n",
        "  print(\"Accuracy (train): \" , accuracy_score(y_train_true, y_train_pred))\r\n",
        "  print(\"Accuracy (test):\" , accuracy_score(y_test_true, y_test_pred))\r\n",
        "  print(\"F1 score (train): \", f1_score(y_train_true, y_train_pred, average='macro'))\r\n",
        "  print(\"F1 score (test): \", f1_score(y_test_true, y_test_pred, average='macro'))\r\n",
        "  print(\"Recall (train):\", recall_score(y_train_true, y_train_pred, average='macro'))\r\n",
        "  print(\"Recall (test):\", recall_score(y_test_true, y_test_pred, average='macro'))\r\n",
        "\r\n",
        "  return total_train_losses, total_test_losses"
      ],
      "execution_count": null,
      "outputs": []
    },
    {
      "cell_type": "code",
      "metadata": {
        "id": "cmraONa-wjO_"
      },
      "source": [
        "def printRes(total_train_losses,total_test_losses):\r\n",
        "  fig = plt.figure()\r\n",
        "  plt.plot(total_train_losses,  label=\"train data\")\r\n",
        "  plt.plot(total_test_losses,  label=\"test data\")\r\n",
        "  fig.suptitle('Loss - epochs for both train and test set', fontsize=20)\r\n",
        "  plt.xlabel('epochs', fontsize=18)\r\n",
        "  plt.ylabel('cummulative running loss', fontsize=16)\r\n",
        "  plt.legend()\r\n",
        "  plt.show()"
      ],
      "execution_count": null,
      "outputs": []
    },
    {
      "cell_type": "code",
      "metadata": {
        "colab": {
          "base_uri": "https://localhost:8080/"
        },
        "id": "ZBuLM-YhwmbF",
        "outputId": "3eba769e-754a-41c3-9324-dcc56040c110"
      },
      "source": [
        "total_train_losses1, total_test_losses1 = training_pipeline(train_loader1,test_loader1,model1,criterion1,optimizer1,\"Semeval2017A\")"
      ],
      "execution_count": null,
      "outputs": [
        {
          "output_type": "stream",
          "text": [
            " [========================================] ...Epoch 1, Loss: 0.8856\n",
            " [========================================] ...Epoch 2, Loss: 0.8366\n",
            " [========================================] ...Epoch 3, Loss: 0.7859\n",
            " [========================================] ...Epoch 4, Loss: 0.9909\n",
            " [========================================] ...Epoch 5, Loss: 1.0307\n",
            " [========================================] ...Epoch 6, Loss: 0.7805\n",
            " [========================================] ...Epoch 7, Loss: 0.9593\n",
            " [========================================] ...Epoch 8, Loss: 0.8088\n",
            " [========================================] ...Epoch 9, Loss: 0.8375\n",
            " [========================================] ...Epoch 10, Loss: 0.7860\n",
            " [========================================] ...Epoch 11, Loss: 0.8318\n",
            " [========================================] ...Epoch 12, Loss: 0.7855\n",
            " [========================================] ...Epoch 13, Loss: 0.9867\n",
            " [========================================] ...Epoch 14, Loss: 0.8562\n",
            " [========================================] ...Epoch 15, Loss: 0.9190\n",
            " [========================================] ...Epoch 16, Loss: 0.8986\n",
            " [========================================] ...Epoch 17, Loss: 0.8475\n",
            " [========================================] ...Epoch 18, Loss: 0.6751\n",
            " [========================================] ...Epoch 19, Loss: 0.8070\n",
            " [========================================] ...Epoch 20, Loss: 1.0174\n",
            " [========================================] ...Epoch 21, Loss: 0.7119\n",
            " [========================================] ...Epoch 22, Loss: 0.9502\n",
            " [========================================] ...Epoch 23, Loss: 0.9400\n",
            " [========================================] ...Epoch 24, Loss: 0.7594\n",
            " [========================================] ...Epoch 25, Loss: 0.8196\n",
            " [========================================] ...Epoch 26, Loss: 0.9844\n",
            " [========================================] ...Epoch 27, Loss: 0.8911\n",
            " [========================================] ...Epoch 28, Loss: 0.7719\n",
            " [========================================] ...Epoch 29, Loss: 0.8273\n",
            " [========================================] ...Epoch 30, Loss: 1.0352\n",
            " [========================================] ...Epoch 31, Loss: 0.7688\n",
            " [========================================] ...Epoch 32, Loss: 0.7177\n",
            " [========================================] ...Epoch 33, Loss: 0.7804\n",
            " [========================================] ...Epoch 34, Loss: 0.7045\n",
            " [========================================] ...Epoch 35, Loss: 0.8162\n",
            " [========================================] ...Epoch 36, Loss: 0.8393\n",
            " [========================================] ...Epoch 37, Loss: 0.7948\n",
            " [========================================] ...Epoch 38, Loss: 0.7393\n",
            " [========================================] ...Epoch 39, Loss: 0.8899\n",
            " [========================================] ...Epoch 40, Loss: 0.8506\n",
            " [========================================] ...Epoch 41, Loss: 0.8476\n",
            " [========================================] ...Epoch 42, Loss: 0.8095\n",
            " [========================================] ...Epoch 43, Loss: 0.8568\n",
            " [========================================] ...Epoch 44, Loss: 0.8000\n",
            " [========================================] ...Epoch 45, Loss: 0.7341\n",
            " [========================================] ...Epoch 46, Loss: 0.7362\n",
            " [========================================] ...Epoch 47, Loss: 0.8952\n",
            " [========================================] ...Epoch 48, Loss: 0.8148\n",
            " [========================================] ...Epoch 49, Loss: 0.8949\n",
            " [========================================] ...Epoch 50, Loss: 0.9029\n",
            "Train loss:  0.8141829081110119\n",
            "Test loss:  0.9221461899578571\n",
            "Accuracy (train):  0.6179546188630491\n",
            "Accuracy (test): 0.5790296052631579\n",
            "F1 score (train):  0.5723997748359584\n",
            "F1 score (test):  0.5564495831994608\n",
            "Recall (train): 0.6000125805140658\n",
            "Recall (test): 0.562847164653378\n"
          ],
          "name": "stdout"
        }
      ]
    },
    {
      "cell_type": "code",
      "metadata": {
        "id": "m6jQ6aSHUIWA",
        "colab": {
          "base_uri": "https://localhost:8080/"
        },
        "outputId": "8a36b3f3-2032-4a82-d92e-b24f0a09b564"
      },
      "source": [
        "total_train_losses2, total_test_losses2 = training_pipeline(train_loader2,test_loader2,model2,criterion2,optimizer2,\"MR\")"
      ],
      "execution_count": null,
      "outputs": [
        {
          "output_type": "stream",
          "text": [
            " [========================================] ...Epoch 1, Loss: 0.6515\n",
            " [========================================] ...Epoch 2, Loss: 0.6200\n",
            " [========================================] ...Epoch 3, Loss: 0.5486\n",
            " [========================================] ...Epoch 4, Loss: 0.4853\n",
            " [========================================] ...Epoch 5, Loss: 0.7926\n",
            " [========================================] ...Epoch 6, Loss: 0.4304\n",
            " [========================================] ...Epoch 7, Loss: 0.7142\n",
            " [========================================] ...Epoch 8, Loss: 0.5414\n",
            " [========================================] ...Epoch 9, Loss: 0.5531\n",
            " [========================================] ...Epoch 10, Loss: 0.7681\n",
            " [========================================] ...Epoch 11, Loss: 0.5714\n",
            " [========================================] ...Epoch 12, Loss: 0.7209\n",
            " [========================================] ...Epoch 13, Loss: 0.5068\n",
            " [========================================] ...Epoch 14, Loss: 0.6460\n",
            " [========================================] ...Epoch 15, Loss: 0.4508\n",
            " [========================================] ...Epoch 16, Loss: 0.6145\n",
            " [========================================] ...Epoch 17, Loss: 0.5271\n",
            " [========================================] ...Epoch 18, Loss: 0.4367\n",
            " [========================================] ...Epoch 19, Loss: 0.5644\n",
            " [========================================] ...Epoch 20, Loss: 0.6029\n",
            " [========================================] ...Epoch 21, Loss: 0.4421\n",
            " [========================================] ...Epoch 22, Loss: 0.3850\n",
            " [========================================] ...Epoch 23, Loss: 0.7500\n",
            " [========================================] ...Epoch 24, Loss: 0.5691\n",
            " [========================================] ...Epoch 25, Loss: 0.4943\n",
            " [========================================] ...Epoch 26, Loss: 0.4375\n",
            " [========================================] ...Epoch 27, Loss: 0.4974\n",
            " [========================================] ...Epoch 28, Loss: 0.4081\n",
            " [========================================] ...Epoch 29, Loss: 0.5762\n",
            " [========================================] ...Epoch 30, Loss: 0.3960\n",
            " [========================================] ...Epoch 31, Loss: 0.3714\n",
            " [========================================] ...Epoch 32, Loss: 0.5299\n",
            " [========================================] ...Epoch 33, Loss: 0.6364\n",
            " [========================================] ...Epoch 34, Loss: 0.4291\n",
            " [========================================] ...Epoch 35, Loss: 0.5085\n",
            " [========================================] ...Epoch 36, Loss: 0.4246\n",
            " [========================================] ...Epoch 37, Loss: 0.7736\n",
            " [========================================] ...Epoch 38, Loss: 0.5481\n",
            " [========================================] ...Epoch 39, Loss: 0.5335\n",
            " [========================================] ...Epoch 40, Loss: 0.6309\n",
            " [========================================] ...Epoch 41, Loss: 0.5269\n",
            " [========================================] ...Epoch 42, Loss: 0.5782\n",
            " [========================================] ...Epoch 43, Loss: 0.4191\n",
            " [========================================] ...Epoch 44, Loss: 0.6163\n",
            " [========================================] ...Epoch 45, Loss: 0.5362\n",
            " [========================================] ...Epoch 46, Loss: 0.4324\n",
            " [========================================] ...Epoch 47, Loss: 0.4198\n",
            " [========================================] ...Epoch 48, Loss: 0.5475\n",
            " [========================================] ...Epoch 49, Loss: 0.4659\n",
            " [========================================] ...Epoch 50, Loss: 0.6661\n",
            "Train loss:  0.5123891656911825\n",
            "Test loss:  0.5480549037456512\n",
            "Accuracy (train):  0.7392828525641025\n",
            "Accuracy (test): 0.709375\n",
            "F1 score (train):  0.7383660836914165\n",
            "F1 score (test):  0.7074436711100626\n",
            "Recall (train): 0.7427080619953113\n",
            "Recall (test): 0.7106305662288148\n"
          ],
          "name": "stdout"
        }
      ]
    },
    {
      "cell_type": "code",
      "metadata": {
        "id": "iLotBx-swrar",
        "colab": {
          "base_uri": "https://localhost:8080/",
          "height": 316
        },
        "outputId": "adfd1455-7175-4423-bccd-40eba7d3bf6b"
      },
      "source": [
        "printRes(total_train_losses1, total_test_losses1)"
      ],
      "execution_count": null,
      "outputs": [
        {
          "output_type": "display_data",
          "data": {
            "image/png": "[encoded data removed]",
            "text/plain": [
              "<Figure size 432x288 with 1 Axes>"
            ]
          },
          "metadata": {
            "tags": [],
            "needs_background": "light"
          }
        }
      ]
    },
    {
      "cell_type": "code",
      "metadata": {
        "colab": {
          "base_uri": "https://localhost:8080/",
          "height": 316
        },
        "id": "-neijq2Xbw_s",
        "outputId": "c0f234c5-e1ea-4fac-c845-c110b66cdaf2"
      },
      "source": [
        "printRes(total_train_losses2, total_test_losses2)"
      ],
      "execution_count": null,
      "outputs": [
        {
          "output_type": "display_data",
          "data": {
            "image/png": "[encoded data removed]",
            "text/plain": [
              "<Figure size 432x288 with 1 Axes>"
            ]
          },
          "metadata": {
            "tags": [],
            "needs_background": "light"
          }
        }
      ]
    }
  ]
}